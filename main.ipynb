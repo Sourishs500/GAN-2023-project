{
 "cells": [
  {
   "cell_type": "code",
   "execution_count": 16,
   "metadata": {},
   "outputs": [],
   "source": [
    "import torch\n",
    "import torchvision\n",
    "import numpy as np\n",
    "%matplotlib inline\n",
    "import matplotlib.pyplot as plt\n",
    "from tqdm.auto import tqdm"
   ]
  },
  {
   "cell_type": "code",
   "execution_count": 25,
   "metadata": {},
   "outputs": [],
   "source": [
    "# import the dataset and loader from data_utils.py\n",
    "import data_utils\n",
    "image_folder_path = 'dataset/image/Apple'\n",
    "desired_image_size = (64, 64)\n",
    "\n",
    "batch_size = 1\n",
    "# create a dataset so that dataset[i] returns the ith image\n",
    "dataset = data_utils.Dataset(image_folder_path, desired_image_size)\n",
    "# make a dataloader that returns the images as batches for parallel processing\n",
    "dataloader = torch.utils.data.DataLoader(dataset, batch_size)"
   ]
  },
  {
   "cell_type": "code",
   "execution_count": 19,
   "metadata": {},
   "outputs": [],
   "source": [
    "# import the models from model.py\n",
    "import models\n",
    "generator = models.Generator()\n",
    "discriminator = models.Discriminator()"
   ]
  },
  {
   "cell_type": "code",
   "execution_count": 20,
   "metadata": {},
   "outputs": [],
   "source": [
    "# use the gpu if available\n",
    "device = torch.device(\"cuda\" if torch.cuda.is_available() else \"cpu\")\n",
    "generator = generator.to(device)\n",
    "discriminator = discriminator.to(device)"
   ]
  },
  {
   "cell_type": "code",
   "execution_count": 21,
   "metadata": {},
   "outputs": [],
   "source": [
    "# Initialize the loss function\n",
    "criterion = torch.nn.BCELoss()\n",
    "\n",
    "# Create batch of latent vectors that we will use to visualize the progression of the generator\n",
    "fixed_noise = torch.randn(64, 100, 1, 1, device=device)\n",
    "\n",
    "# Establish convention for real and fake labels during training\n",
    "real_label = 1.\n",
    "fake_label = 0.\n",
    "\n",
    "# set a learning rate\n",
    "lr = 0.1\n",
    "\n",
    "# Setup optimizers for both generator and discriminator\n",
    "optimizerD = torch.optim.AdamW(generator.parameters(), lr=lr)\n",
    "optimizerG = torch.optim.AdamW(discriminator.parameters(), lr=lr)"
   ]
  },
  {
   "cell_type": "code",
   "execution_count": 23,
   "metadata": {},
   "outputs": [],
   "source": [
    "# functions that save and load the model and optimizer\n",
    "save_to = './checkpoints/model.pt'\n",
    "def save(path, generator, discriminator, optimizerG, optimizerD):\n",
    "    torch.save(\n",
    "        {\n",
    "            'generator_weights' : generator.state_dict(),\n",
    "            'discriminator_weights' : discriminator.state_dict(),\n",
    "            'generator_optimizer_weights' : optimizerG.state_dict(),\n",
    "            'discriminator_optimizer_weights' : optimizerD.state_dict(),\n",
    "        },\n",
    "        path\n",
    "    )\n",
    "\n",
    "def load(path):\n",
    "    # initialize \n",
    "    device = torch.device(\"cuda\" if torch.cuda.is_available() else \"cpu\")\n",
    "    checkpoint = torch.load(path)\n",
    "    generator = models.Generator().to(device)\n",
    "    discriminator = models.Discriminator().to(device)\n",
    "\n",
    "    optimizerG = torch.optim.Adam(generator.parameters(), lr=lr)\n",
    "    optimizerD = torch.optim.Adam(discriminator.parameters(), lr=lr)\n",
    "\n",
    "    generator.load_state_dict(checkpoint['generator_weights'])\n",
    "    discriminator.load_state_dict(checkpoint['discriminator_weights'])\n",
    "    optimizerG.load_state_dict(checkpoint['generator_optimizer_weights'])\n",
    "    optimizerD.load_state_dict(checkpoint['discriminator_optimizer_weights'])\n",
    "\n",
    "    return generator, discriminator, optimizerG, optimizerD"
   ]
  },
  {
   "cell_type": "code",
   "execution_count": 28,
   "metadata": {},
   "outputs": [
    {
     "data": {
      "application/vnd.jupyter.widget-view+json": {
       "model_id": "759cb897487c4a6ab1955481132812ef",
       "version_major": 2,
       "version_minor": 0
      },
      "text/plain": [
       "  0%|          | 0/500 [00:00<?, ?it/s]"
      ]
     },
     "metadata": {},
     "output_type": "display_data"
    },
    {
     "ename": "AttributeError",
     "evalue": "'Discriminator' object has no attribute 'conv'",
     "output_type": "error",
     "traceback": [
      "\u001b[0;31m---------------------------------------------------------------------------\u001b[0m",
      "\u001b[0;31mAttributeError\u001b[0m                            Traceback (most recent call last)",
      "\u001b[1;32m/Users/maxin/Documents/GitHub/GAN-2023-project/main.ipynb Cell 7\u001b[0m line \u001b[0;36m2\n\u001b[1;32m     <a href='vscode-notebook-cell:/Users/maxin/Documents/GitHub/GAN-2023-project/main.ipynb#X44sZmlsZQ%3D%3D?line=19'>20</a>\u001b[0m \u001b[39m# Create a tensor filled with 'real_label' values, representing labels the discriminator should predict for real images.\u001b[39;00m\n\u001b[1;32m     <a href='vscode-notebook-cell:/Users/maxin/Documents/GitHub/GAN-2023-project/main.ipynb#X44sZmlsZQ%3D%3D?line=20'>21</a>\u001b[0m label \u001b[39m=\u001b[39m torch\u001b[39m.\u001b[39mfull((real_cpu\u001b[39m.\u001b[39msize(\u001b[39m0\u001b[39m),), real_label)\n\u001b[0;32m---> <a href='vscode-notebook-cell:/Users/maxin/Documents/GitHub/GAN-2023-project/main.ipynb#X44sZmlsZQ%3D%3D?line=22'>23</a>\u001b[0m output \u001b[39m=\u001b[39m discriminator(real_cpu)\u001b[39m.\u001b[39mview(\u001b[39m-\u001b[39m\u001b[39m1\u001b[39m)  \u001b[39m# Pass real images through the discriminator and flatten the output.\u001b[39;00m\n\u001b[1;32m     <a href='vscode-notebook-cell:/Users/maxin/Documents/GitHub/GAN-2023-project/main.ipynb#X44sZmlsZQ%3D%3D?line=23'>24</a>\u001b[0m errD_real \u001b[39m=\u001b[39m criterion(output, label)       \u001b[39m# Calculate loss between discriminator's predictions and real labels.\u001b[39;00m\n\u001b[1;32m     <a href='vscode-notebook-cell:/Users/maxin/Documents/GitHub/GAN-2023-project/main.ipynb#X44sZmlsZQ%3D%3D?line=24'>25</a>\u001b[0m errD_real\u001b[39m.\u001b[39mbackward()                       \u001b[39m# Compute the gradients based on the loss.\u001b[39;00m\n",
      "File \u001b[0;32m~/opt/anaconda3/envs/cassava/lib/python3.8/site-packages/torch/nn/modules/module.py:1194\u001b[0m, in \u001b[0;36mModule._call_impl\u001b[0;34m(self, *input, **kwargs)\u001b[0m\n\u001b[1;32m   1190\u001b[0m \u001b[39m# If we don't have any hooks, we want to skip the rest of the logic in\u001b[39;00m\n\u001b[1;32m   1191\u001b[0m \u001b[39m# this function, and just call forward.\u001b[39;00m\n\u001b[1;32m   1192\u001b[0m \u001b[39mif\u001b[39;00m \u001b[39mnot\u001b[39;00m (\u001b[39mself\u001b[39m\u001b[39m.\u001b[39m_backward_hooks \u001b[39mor\u001b[39;00m \u001b[39mself\u001b[39m\u001b[39m.\u001b[39m_forward_hooks \u001b[39mor\u001b[39;00m \u001b[39mself\u001b[39m\u001b[39m.\u001b[39m_forward_pre_hooks \u001b[39mor\u001b[39;00m _global_backward_hooks\n\u001b[1;32m   1193\u001b[0m         \u001b[39mor\u001b[39;00m _global_forward_hooks \u001b[39mor\u001b[39;00m _global_forward_pre_hooks):\n\u001b[0;32m-> 1194\u001b[0m     \u001b[39mreturn\u001b[39;00m forward_call(\u001b[39m*\u001b[39;49m\u001b[39minput\u001b[39;49m, \u001b[39m*\u001b[39;49m\u001b[39m*\u001b[39;49mkwargs)\n\u001b[1;32m   1195\u001b[0m \u001b[39m# Do not call functions when jit is used\u001b[39;00m\n\u001b[1;32m   1196\u001b[0m full_backward_hooks, non_full_backward_hooks \u001b[39m=\u001b[39m [], []\n",
      "File \u001b[0;32m~/Documents/GitHub/GAN-2023-project/models.py:33\u001b[0m, in \u001b[0;36mDiscriminator.forward\u001b[0;34m(self, image)\u001b[0m\n\u001b[1;32m     32\u001b[0m \u001b[39mdef\u001b[39;00m \u001b[39mforward\u001b[39m(\u001b[39mself\u001b[39m, image):\n\u001b[0;32m---> 33\u001b[0m     x \u001b[39m=\u001b[39m \u001b[39mself\u001b[39m\u001b[39m.\u001b[39msigmoid(\u001b[39mself\u001b[39;49m\u001b[39m.\u001b[39;49mconv(x))\n\u001b[1;32m     34\u001b[0m     \u001b[39mreturn\u001b[39;00m x\n",
      "File \u001b[0;32m~/opt/anaconda3/envs/cassava/lib/python3.8/site-packages/torch/nn/modules/module.py:1269\u001b[0m, in \u001b[0;36mModule.__getattr__\u001b[0;34m(self, name)\u001b[0m\n\u001b[1;32m   1267\u001b[0m     \u001b[39mif\u001b[39;00m name \u001b[39min\u001b[39;00m modules:\n\u001b[1;32m   1268\u001b[0m         \u001b[39mreturn\u001b[39;00m modules[name]\n\u001b[0;32m-> 1269\u001b[0m \u001b[39mraise\u001b[39;00m \u001b[39mAttributeError\u001b[39;00m(\u001b[39m\"\u001b[39m\u001b[39m'\u001b[39m\u001b[39m{}\u001b[39;00m\u001b[39m'\u001b[39m\u001b[39m object has no attribute \u001b[39m\u001b[39m'\u001b[39m\u001b[39m{}\u001b[39;00m\u001b[39m'\u001b[39m\u001b[39m\"\u001b[39m\u001b[39m.\u001b[39mformat(\n\u001b[1;32m   1270\u001b[0m     \u001b[39mtype\u001b[39m(\u001b[39mself\u001b[39m)\u001b[39m.\u001b[39m\u001b[39m__name__\u001b[39m, name))\n",
      "\u001b[0;31mAttributeError\u001b[0m: 'Discriminator' object has no attribute 'conv'"
     ]
    }
   ],
   "source": [
    "# create a loop to train the model\n",
    "\n",
    "num_epochs = 500\n",
    "\n",
    "generator.train()\n",
    "discriminator.train()\n",
    "\n",
    "for epoch in tqdm(range(1, 1+num_epochs)):\n",
    "    for i, data in enumerate(dataloader, 0):\n",
    "\n",
    "        ########################################################\n",
    "        # (1) Update D network: maximize log(D(x)) + log(1 - D(G(z)))\n",
    "        #######################################################\n",
    "        \n",
    "        \n",
    "        ## Train the Discriminator on Real Data\n",
    "        discriminator.zero_grad()  # Zero out the gradients for the discriminator to ensure no accumulation from previous iterations.\n",
    "        real_cpu = data[0]        # Extract real images from the current batch of data.\n",
    "\n",
    "        # Create a tensor filled with 'real_label' values, representing labels the discriminator should predict for real images.\n",
    "        label = torch.full((real_cpu.size(0),), real_label)\n",
    "\n",
    "        output = discriminator(real_cpu).view(-1)  # Pass real images through the discriminator and flatten the output.\n",
    "        errD_real = criterion(output, label)       # Calculate loss between discriminator's predictions and real labels.\n",
    "        errD_real.backward()                       # Compute the gradients based on the loss.\n",
    "\n",
    "        ## Train the Discriminator on Fake Data\n",
    "        noise = torch.randn(real_cpu.size(0), 100, 1, 1)  # Generate random noise to feed into the generator.\n",
    "        fake = generator(noise)                           # Use the generator to produce fake images from the noise.\n",
    "        label.fill_(fake_label)                          # Change the label values to 'fake_label', representing fake images.\n",
    "\n",
    "        # Pass the fake images (detached to avoid gradient computation for the generator) through the discriminator and flatten the output.\n",
    "        output = discriminator(fake.detach()).view(-1)\n",
    "        errD_fake = criterion(output, label)              # Calculate loss between discriminator's predictions and fake labels.\n",
    "        errD_fake.backward()                             # Compute the gradients based on the loss.\n",
    "\n",
    "        errD = errD_real + errD_fake  # Total discriminator loss is the sum of losses on real and fake data.\n",
    "        optimizerD.step()  \n",
    "\n",
    "        ########################################################\n",
    "        # (2) Update G network: maximize log(D(G(z)))\n",
    "        #######################################################\n",
    "        \n",
    "        \n",
    "        ## Train the Generator\n",
    "        generator.zero_grad()         # Zero out the gradients for the generator.\n",
    "        label.fill_(real_label)      # For the generator's loss, the goal is to have the discriminator label its output as real, hence using 'real_label'.\n",
    "        output = discriminator(fake).view(-1)  # Pass the previously generated fake images through the discriminator.\n",
    "\n",
    "        # Calculate loss for the generator based on how well the discriminator was fooled.\n",
    "        errG = criterion(output, label)\n",
    "        errG.backward()  # Compute the gradients based on the generator's loss.\n",
    "        optimizerG.step() # Update the generator's parameters based on computed gradients.\n",
    "\n",
    "        # Output training stats after every batch for demonstration.\n",
    "        print(f\"[{epoch}/{num_epochs}][{i}/{len(dataloader)}] Loss_D: {errD.item()} Loss_G: {errG.item()}\")\n",
    "\n",
    "        # Periodically check the generator's outputs (here, every 50 batches as an example).\n",
    "        if i % 50 == 0:\n",
    "            with torch.no_grad():\n",
    "                fake = generator(fixed_noise).detach().cpu()\n",
    "            print(f\"Generated images at epoch {epoch}, batch {i}\")"
   ]
  },
  {
   "cell_type": "code",
   "execution_count": 2,
   "metadata": {},
   "outputs": [
    {
     "ename": "NameError",
     "evalue": "name 'generator' is not defined",
     "output_type": "error",
     "traceback": [
      "\u001b[1;31m---------------------------------------------------------------------------\u001b[0m",
      "\u001b[1;31mNameError\u001b[0m                                 Traceback (most recent call last)",
      "\u001b[1;32mc:\\TOMASZ\\SOFTWARE\\ACM\\GAN-2023-project\\main.ipynb Cell 8\u001b[0m line \u001b[0;36m4\n\u001b[0;32m      <a href='vscode-notebook-cell:/c%3A/TOMASZ/SOFTWARE/ACM/GAN-2023-project/main.ipynb#X10sZmlsZQ%3D%3D?line=0'>1</a>\u001b[0m \u001b[39m# generate images from the model\u001b[39;00m\n\u001b[0;32m      <a href='vscode-notebook-cell:/c%3A/TOMASZ/SOFTWARE/ACM/GAN-2023-project/main.ipynb#X10sZmlsZQ%3D%3D?line=1'>2</a>\u001b[0m \n\u001b[0;32m      <a href='vscode-notebook-cell:/c%3A/TOMASZ/SOFTWARE/ACM/GAN-2023-project/main.ipynb#X10sZmlsZQ%3D%3D?line=2'>3</a>\u001b[0m \u001b[39m# Set the generator to evaluation mode (this can affect behavior for layers like BatchNorm)\u001b[39;00m\n\u001b[1;32m----> <a href='vscode-notebook-cell:/c%3A/TOMASZ/SOFTWARE/ACM/GAN-2023-project/main.ipynb#X10sZmlsZQ%3D%3D?line=3'>4</a>\u001b[0m generator\u001b[39m.\u001b[39meval()\n\u001b[0;32m      <a href='vscode-notebook-cell:/c%3A/TOMASZ/SOFTWARE/ACM/GAN-2023-project/main.ipynb#X10sZmlsZQ%3D%3D?line=5'>6</a>\u001b[0m \u001b[39m# Generate a batch of noise vectors\u001b[39;00m\n\u001b[0;32m      <a href='vscode-notebook-cell:/c%3A/TOMASZ/SOFTWARE/ACM/GAN-2023-project/main.ipynb#X10sZmlsZQ%3D%3D?line=6'>7</a>\u001b[0m noise \u001b[39m=\u001b[39m torch\u001b[39m.\u001b[39mrandn(batch_size, \u001b[39m100\u001b[39m, \u001b[39m1\u001b[39m, \u001b[39m1\u001b[39m)\u001b[39m.\u001b[39mto(device)\n",
      "\u001b[1;31mNameError\u001b[0m: name 'generator' is not defined"
     ]
    }
   ],
   "source": [
    "# generate images from the model\n",
    "\n",
    "# Set the generator to evaluation mode (this can affect behavior for layers like BatchNorm)\n",
    "generator.eval()\n",
    "\n",
    "# Generate a batch of noise vectors\n",
    "noise = torch.randn(batch_size, 100, 1, 1).to(device)\n",
    "\n",
    "# Generate images from the noise vectors\n",
    "with torch.no_grad():\n",
    "    generated_images = generator(noise).cpu()\n",
    "\n",
    "# Convert the images from [-1, 1] range (if they were normalized this way) to [0, 1]\n",
    "generated_images = (generated_images + 1) / 2.0\n",
    "\n",
    "# Plot some of the generated images\n",
    "plt.figure(figsize=(10,10))\n",
    "\n",
    "for i in range(16): # Displaying the first 16 images as an example\n",
    "    plt.subplot(4, 4, i+1)\n",
    "    plt.imshow(generated_images[i].permute(1, 2, 0).squeeze(), cmap='gray')\n",
    "    plt.axis('off')\n",
    "\n",
    "plt.tight_layout()\n",
    "plt.show()"
   ]
  }
 ],
 "metadata": {
  "kernelspec": {
   "display_name": "Python 3",
   "language": "python",
   "name": "python3"
  },
  "language_info": {
   "codemirror_mode": {
    "name": "ipython",
    "version": 3
   },
   "file_extension": ".py",
   "mimetype": "text/x-python",
   "name": "python",
   "nbconvert_exporter": "python",
   "pygments_lexer": "ipython3",
   "version": "3.10.11"
  },
  "orig_nbformat": 4
 },
 "nbformat": 4,
 "nbformat_minor": 2
}
