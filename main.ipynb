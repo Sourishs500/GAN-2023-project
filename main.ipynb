{
 "cells": [
  {
   "cell_type": "code",
   "execution_count": 2,
   "metadata": {},
   "outputs": [],
   "source": [
    "import torch\n",
    "import torchvision\n",
    "import numpy as np\n",
    "%matplotlib inline\n",
    "import matplotlib.pyplot as plt\n",
    "from tqdm.auto import tqdm"
   ]
  },
  {
   "cell_type": "code",
   "execution_count": 3,
   "metadata": {},
   "outputs": [],
   "source": [
    "# import the dataset and loader from data_utils.py\n",
    "import data_utils\n",
    "image_folder_path = 'dataset/image/Apple'\n",
    "desired_image_size = (64, 64)\n",
    "\n",
    "batch_size = 1\n",
    "# create a dataset so that dataset[i] returns the ith image\n",
    "dataset = data_utils.Dataset(image_folder_path, desired_image_size)\n",
    "# make a dataloader that returns the images as batches for parallel processing\n",
    "dataloader = torch.utils.data.DataLoader(dataset, batch_size)"
   ]
  },
  {
   "cell_type": "code",
   "execution_count": 4,
   "metadata": {},
   "outputs": [
    {
     "name": "stdout",
     "output_type": "stream",
     "text": [
      "<class 'torch.Tensor'>\n"
     ]
    }
   ],
   "source": [
    "print(type(dataset.__getitem__(2)))"
   ]
  },
  {
   "cell_type": "code",
   "execution_count": 6,
   "metadata": {},
   "outputs": [],
   "source": [
    "# import the models from model.py\n",
    "import models\n",
    "generator = models.Generator()\n",
    "discriminator = models.Discriminator()"
   ]
  },
  {
   "cell_type": "code",
   "execution_count": 7,
   "metadata": {},
   "outputs": [],
   "source": [
    "# use the gpu if available\n",
    "device = torch.device(\"cuda\" if torch.cuda.is_available() else \"cpu\")\n",
    "generator = generator.to(device)\n",
    "discriminator = discriminator.to(device)"
   ]
  },
  {
   "cell_type": "code",
   "execution_count": 8,
   "metadata": {},
   "outputs": [],
   "source": [
    "# Initialize the loss function\n",
    "criterion = torch.nn.BCELoss()\n",
    "\n",
    "# Create batch of latent vectors that we will use to visualize the progression of the generator\n",
    "fixed_noise = torch.randn(64, 100, 1, 1, device=device)\n",
    "\n",
    "# Establish convention for real and fake labels during training\n",
    "real_label = 1.\n",
    "fake_label = 0.\n",
    "\n",
    "# set a learning rate\n",
    "lr = 0.1\n",
    "\n",
    "# Setup optimizers for both generator and discriminator\n",
    "optimizerD = torch.optim.AdamW(generator.parameters(), lr=lr)\n",
    "optimizerG = torch.optim.AdamW(discriminator.parameters(), lr=lr)"
   ]
  },
  {
   "cell_type": "code",
   "execution_count": 9,
   "metadata": {},
   "outputs": [],
   "source": [
    "# functions that save and load the model and optimizer\n",
    "save_to = './checkpoints/model.pt'\n",
    "def save(path, generator, discriminator, optimizerG, optimizerD):\n",
    "    torch.save(\n",
    "        {\n",
    "            'generator_weights' : generator.state_dict(),\n",
    "            'discriminator_weights' : discriminator.state_dict(),\n",
    "            'generator_optimizer_weights' : optimizerG.state_dict(),\n",
    "            'discriminator_optimizer_weights' : optimizerD.state_dict(),\n",
    "        },\n",
    "        path\n",
    "    )\n",
    "\n",
    "def load(path):\n",
    "    # initialize \n",
    "    device = torch.device(\"cuda\" if torch.cuda.is_available() else \"cpu\")\n",
    "    checkpoint = torch.load(path)\n",
    "    generator = models.Generator().to(device)\n",
    "    discriminator = models.Discriminator().to(device)\n",
    "\n",
    "    optimizerD = torch.optim.Adam(generator.parameters(), lr=lr)\n",
    "    optimizerG = torch.optim.Adam(discriminator.parameters(), lr=lr)\n",
    "\n",
    "    generator.load_state_dict(checkpoint['generator_weights'])\n",
    "    discriminator.load_state_dict(checkpoint['discriminator_weights'])\n",
    "    optimizerG.load_state_dict(checkpoint['generator_optimizer_weights'])\n",
    "    optimizerD.load_state_dict(checkpoint['discriminator_optimizer_weights'])\n",
    "\n",
    "    return generator, discriminator, optimizerG, optimizerD"
   ]
  },
  {
   "cell_type": "code",
   "execution_count": 13,
   "metadata": {},
   "outputs": [
    {
     "data": {
      "text/plain": [
       "array([1., 1., 1., 1., 1., 1., 1., 1., 1., 1., 1., 1., 1., 1., 1., 1., 1.,\n",
       "       1., 1., 1., 1., 1., 1., 1., 1., 1., 1., 1., 1., 1., 1., 1., 1., 1.,\n",
       "       1., 1., 1., 1., 1., 1., 1., 1., 1., 1., 1., 1., 1., 1., 1., 1., 1.,\n",
       "       1., 1., 1., 1., 1., 1., 1., 1., 1., 1., 1., 1., 1., 1., 1., 1., 1.,\n",
       "       1., 1., 1., 1., 1., 1., 1., 1., 1., 1., 1., 1., 1., 1., 1., 1., 1.,\n",
       "       1., 1., 1., 1., 1., 1., 1., 1., 1., 1., 1., 1., 1., 1., 1.])"
      ]
     },
     "execution_count": 13,
     "metadata": {},
     "output_type": "execute_result"
    }
   ],
   "source": [
    "np.ones(100)"
   ]
  },
  {
   "cell_type": "code",
   "execution_count": 14,
   "metadata": {},
   "outputs": [
    {
     "data": {
      "application/vnd.jupyter.widget-view+json": {
       "model_id": "ced0f459785c434cb7a8deb7473a8d6b",
       "version_major": 2,
       "version_minor": 0
      },
      "text/plain": [
       "  0%|          | 0/2 [00:00<?, ?it/s]"
      ]
     },
     "metadata": {},
     "output_type": "display_data"
    },
    {
     "ename": "TypeError",
     "evalue": "forward() missing 1 required positional argument: 'image'",
     "output_type": "error",
     "traceback": [
      "\u001b[0;31m---------------------------------------------------------------------------\u001b[0m",
      "\u001b[0;31mTypeError\u001b[0m                                 Traceback (most recent call last)",
      "\u001b[1;32m/Users/maxin/Documents/GitHub/GAN-2023-project/main.ipynb Cell 9\u001b[0m line \u001b[0;36m2\n\u001b[1;32m      <a href='vscode-notebook-cell:/Users/maxin/Documents/GitHub/GAN-2023-project/main.ipynb#X10sZmlsZQ%3D%3D?line=7'>8</a>\u001b[0m \u001b[39mfor\u001b[39;00m epoch \u001b[39min\u001b[39;00m tqdm(\u001b[39mrange\u001b[39m(\u001b[39m1\u001b[39m, \u001b[39m1\u001b[39m\u001b[39m+\u001b[39mnum_epochs)):\n\u001b[1;32m      <a href='vscode-notebook-cell:/Users/maxin/Documents/GitHub/GAN-2023-project/main.ipynb#X10sZmlsZQ%3D%3D?line=8'>9</a>\u001b[0m     \u001b[39mfor\u001b[39;00m i, data \u001b[39min\u001b[39;00m \u001b[39menumerate\u001b[39m(dataloader, \u001b[39m0\u001b[39m):\n\u001b[1;32m     <a href='vscode-notebook-cell:/Users/maxin/Documents/GitHub/GAN-2023-project/main.ipynb#X10sZmlsZQ%3D%3D?line=9'>10</a>\u001b[0m \n\u001b[1;32m     <a href='vscode-notebook-cell:/Users/maxin/Documents/GitHub/GAN-2023-project/main.ipynb#X10sZmlsZQ%3D%3D?line=10'>11</a>\u001b[0m         \u001b[39m########################################################\u001b[39;00m\n\u001b[0;32m   (...)\u001b[0m\n\u001b[1;32m     <a href='vscode-notebook-cell:/Users/maxin/Documents/GitHub/GAN-2023-project/main.ipynb#X10sZmlsZQ%3D%3D?line=17'>18</a>\u001b[0m \n\u001b[1;32m     <a href='vscode-notebook-cell:/Users/maxin/Documents/GitHub/GAN-2023-project/main.ipynb#X10sZmlsZQ%3D%3D?line=18'>19</a>\u001b[0m         \u001b[39m# Forward pass real batch through \u001b[39;00m\n\u001b[0;32m---> <a href='vscode-notebook-cell:/Users/maxin/Documents/GitHub/GAN-2023-project/main.ipynb#X10sZmlsZQ%3D%3D?line=19'>20</a>\u001b[0m         outputs \u001b[39m=\u001b[39m discriminator\u001b[39m.\u001b[39;49mforward()\n\u001b[1;32m     <a href='vscode-notebook-cell:/Users/maxin/Documents/GitHub/GAN-2023-project/main.ipynb#X10sZmlsZQ%3D%3D?line=21'>22</a>\u001b[0m         \u001b[39m# Calculate loss on all-real batch\u001b[39;00m\n\u001b[1;32m     <a href='vscode-notebook-cell:/Users/maxin/Documents/GitHub/GAN-2023-project/main.ipynb#X10sZmlsZQ%3D%3D?line=22'>23</a>\u001b[0m         loss \u001b[39m=\u001b[39m criterion(outputs, np\u001b[39m.\u001b[39mones(\u001b[39mlen\u001b[39m(outputs)))\n",
      "\u001b[0;31mTypeError\u001b[0m: forward() missing 1 required positional argument: 'image'"
     ]
    }
   ],
   "source": [
    "# create a loop to train the model\n",
    "\n",
    "num_epochs = 2\n",
    "\n",
    "generator.train()\n",
    "discriminator.train()\n",
    "\n",
    "for epoch in tqdm(range(1, 1+num_epochs)):\n",
    "    for i, data in enumerate(dataloader, 0):\n",
    "\n",
    "        ########################################################\n",
    "        # (1) Update D network: maximize log(D(x)) + log(1 - D(G(z)))\n",
    "        #######################################################\n",
    "\n",
    "        ## Train with all-real batch\n",
    "\n",
    "        # Format batch\n",
    "\n",
    "        # Forward pass real batch through \n",
    "        outputs = discriminator.forward()\n",
    "\n",
    "        # Calculate loss on all-real batch\n",
    "        loss = criterion(outputs, np.ones(len(outputs)))\n",
    "\n",
    "        # Calculate gradients for D in backward pass\n",
    "        loss.backward()\n",
    "        optimizerD.step() \n",
    "        optimizerD.zero_grad()\n",
    "\n",
    "        ## Train with all-fake batch\n",
    "        \n",
    "        # Generate batch of latent vectors\n",
    "\n",
    "        # 64x64??\n",
    "\n",
    "        # Generate fake image batch with G\n",
    "\n",
    "        # Classify all fake batch with D\n",
    "\n",
    "        # Calculate D's loss on the all-fake batch\n",
    "\n",
    "        # Calculate the gradients for this batch, accumulated (summed) with previous gradients\n",
    "\n",
    "        # Compute error of D as sum over the fake and the real bastches\n",
    "\n",
    "        # Update D\n",
    "\n",
    "        ########################################################\n",
    "        # (2) Update G network: maximize log(D(G(z)))\n",
    "        #######################################################\n",
    "        \n",
    "        # Since we just updated D, perform another forward pass of all-fake batch through D\n",
    "\n",
    "        # Calculate G's loss based on this output\n",
    "\n",
    "        # Calculate gradients for G\n",
    "\n",
    "        # Update G\n",
    "\n",
    "        # # Output training stats\n",
    "       \n",
    "        # Save Losses for plotting later\n",
    "\n",
    "        # Check how the generator is doing by saving G's output on fixed_noise"
   ]
  },
  {
   "cell_type": "code",
   "execution_count": null,
   "metadata": {},
   "outputs": [],
   "source": [
    "# generate images from the model"
   ]
  }
 ],
 "metadata": {
  "kernelspec": {
   "display_name": "cassava",
   "language": "python",
   "name": "python3"
  },
  "language_info": {
   "codemirror_mode": {
    "name": "ipython",
    "version": 3
   },
   "file_extension": ".py",
   "mimetype": "text/x-python",
   "name": "python",
   "nbconvert_exporter": "python",
   "pygments_lexer": "ipython3",
   "version": "3.8.15"
  },
  "orig_nbformat": 4
 },
 "nbformat": 4,
 "nbformat_minor": 2
}
